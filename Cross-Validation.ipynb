{
 "cells": [
  {
   "cell_type": "markdown",
   "metadata": {},
   "source": [
    "## Cross-Validation of Machine Learning Models\n",
    "\n",
    "This notebook runs cross-validation tests to determine the effectiveness of a variety of machine learning models on our data."
   ]
  },
  {
   "cell_type": "code",
   "execution_count": 1,
   "metadata": {},
   "outputs": [],
   "source": [
    "%matplotlib inline"
   ]
  },
  {
   "cell_type": "code",
   "execution_count": 2,
   "metadata": {},
   "outputs": [],
   "source": [
    "import os\n",
    "import pandas as pd\n",
    "import numpy as np\n",
    "from sklearn.metrics import brier_score_loss, log_loss, f1_score\n",
    "import time\n",
    "\n",
    "from sklearn.linear_model import LogisticRegressionCV, LogisticRegression, SGDClassifier\n",
    "from sklearn.ensemble import BaggingClassifier, ExtraTreesClassifier, RandomForestClassifier, GradientBoostingClassifier\n",
    "from sklearn.naive_bayes import GaussianNB\n",
    "from sklearn.preprocessing import StandardScaler\n",
    "from sklearn.neural_network import MLPClassifier\n",
    "from sklearn.model_selection import KFold\n",
    "\n",
    "import warnings"
   ]
  },
  {
   "cell_type": "markdown",
   "metadata": {},
   "source": [
    "First, let's import our data and get rid of instances with a current income of $1,000 or less, for which income shocks are ill-defined."
   ]
  },
  {
   "cell_type": "code",
   "execution_count": 3,
   "metadata": {},
   "outputs": [],
   "source": [
    "cohort_79 = pd.read_csv('data/cohort79_Jun8.csv')\n",
    "cohort_97 = pd.read_csv('data/cohort97_Jun8.csv')\n",
    "\n",
    "merged_data = pd.concat([cohort_79, cohort_97], sort=False)\n",
    "merged_data.drop(merged_data[merged_data[\"adjusted_income\"] <= 1000].index, inplace=True)\n",
    "merged_data.fillna(0, inplace=True)\n",
    "\n",
    "predictors = list(merged_data.columns)\n",
    "vars_to_drop = [\"case_id\", \"urban_or_rural\", \"family_size\", \"sample_id\", \"year\", \"shock\", \"region\", \"highest_grade\", \"industry\", \"occupation\", \"Unnamed: 0\",'marital_status', 'race', \"region_1\", \"region_2\", \"region_3\", \"region_4\", \"work_kind_limited\", \"work_amount_limited\"]\n",
    "for var in vars_to_drop:\n",
    "    predictors.remove(var)\n",
    "    \n",
    "X = merged_data[predictors]\n",
    "y = np.ravel(merged_data[\"shock\"])"
   ]
  },
  {
   "cell_type": "markdown",
   "metadata": {},
   "source": [
    "Then, define a function to cross-validate each model."
   ]
  },
  {
   "cell_type": "code",
   "execution_count": 35,
   "metadata": {},
   "outputs": [],
   "source": [
    "def score_model(X, y, estimator, n_folds, scale=False, **kwargs):\n",
    "    \n",
    "    kf = KFold(n_splits = n_folds)\n",
    "    f1_scores = []\n",
    "    brier_scores = []\n",
    "    log_loss_scores = []\n",
    "    start = time.time()\n",
    "    \n",
    "    for train_index, test_index in kf.split(X):\n",
    "    \n",
    "        X_train, X_test = X.iloc[train_index], X.iloc[test_index]\n",
    "        y_train, y_test = y[train_index], y[test_index]\n",
    "\n",
    "        if scale:\n",
    "            # The standard scaler will raise a warning about variable types. To suppress those for the moment...    \n",
    "            with warnings.catch_warnings():\n",
    "                warnings.simplefilter(\"ignore\")\n",
    "                scaler = StandardScaler().fit(X_train)\n",
    "                X_train = scaler.transform(X_train)\n",
    "                X_test = scaler.transform(X_test)\n",
    "\n",
    "        estimator.fit(X_train, y_train, **kwargs)  \n",
    "\n",
    "        expected  = y_test\n",
    "        predicted = estimator.predict(X_test)\n",
    "        predicted_proba = estimator.predict_proba(X_test)[:,1]\n",
    "        \n",
    "        f1_scores.append(f1_score(expected, predicted, average=\"weighted\"))\n",
    "        brier_scores.append(brier_score_loss(expected, predicted_proba))\n",
    "        log_loss_scores.append(log_loss(expected, predicted_proba))\n",
    "    \n",
    "    end = time.time()\n",
    "\n",
    "    print(\"Model: {}\".format(estimator.__class__.__name__))\n",
    "    print(\"F1 score (higher is better): {:.03f}\".format(np.mean(f1_scores)))\n",
    "    print(\"Brier score loss (lower is better): {:.03f}\".format(np.mean(brier_scores)))\n",
    "    print(\"Log loss (lower is better): {:.03f}\".format(np.mean(log_loss_scores)))\n",
    "    print(\"Time to train each fold: {:.02f} seconds\\n\".format((end - start) / n_folds))\n"
   ]
  },
  {
   "cell_type": "markdown",
   "metadata": {},
   "source": [
    "Next, test the performance of a range of machine learning models, relative to a dummy predictor that predicts that each person has the population-wide odds of suffering an income shock."
   ]
  },
  {
   "cell_type": "code",
   "execution_count": 37,
   "metadata": {},
   "outputs": [
    {
     "name": "stdout",
     "output_type": "stream",
     "text": [
      "Model: DummyPredictor\n",
      "F1 score (higher is better): 0.662\n",
      "Brier score loss (lower is better): 0.180\n",
      "Log loss (lower is better): 0.546\n",
      "\n",
      "Model: SGDClassifier\n",
      "F1 score (higher is better): 0.691\n",
      "Brier score loss (lower is better): 0.175\n",
      "Log loss (lower is better): 0.539\n",
      "Time to train each fold: 2.10 seconds\n",
      "\n",
      "Model: LogisticRegression\n",
      "F1 score (higher is better): 0.691\n",
      "Brier score loss (lower is better): 0.169\n",
      "Log loss (lower is better): 0.518\n",
      "Time to train each fold: 1.48 seconds\n",
      "\n",
      "Model: GradientBoostingClassifier\n",
      "F1 score (higher is better): 0.687\n",
      "Brier score loss (lower is better): 0.167\n",
      "Log loss (lower is better): 0.510\n",
      "Time to train each fold: 33.24 seconds\n",
      "\n",
      "Model: RandomForestClassifier\n",
      "F1 score (higher is better): 0.698\n",
      "Brier score loss (lower is better): 0.168\n",
      "Log loss (lower is better): 0.513\n",
      "Time to train each fold: 41.99 seconds\n",
      "\n",
      "Model: BaggingClassifier\n",
      "F1 score (higher is better): 0.700\n",
      "Brier score loss (lower is better): 0.189\n",
      "Log loss (lower is better): 1.027\n",
      "Time to train each fold: 26.10 seconds\n",
      "\n",
      "Model: GaussianNB\n",
      "F1 score (higher is better): 0.591\n",
      "Brier score loss (lower is better): 0.365\n",
      "Log loss (lower is better): 3.184\n",
      "Time to train each fold: 0.90 seconds\n",
      "\n",
      "Model: MLPClassifier\n",
      "F1 score (higher is better): 0.712\n",
      "Brier score loss (lower is better): 0.176\n",
      "Log loss (lower is better): 0.538\n",
      "Time to train each fold: 73.12 seconds\n",
      "\n",
      "Model: GradientBoostingClassifier\n",
      "F1 score (higher is better): 0.707\n",
      "Brier score loss (lower is better): 0.165\n",
      "Log loss (lower is better): 0.504\n",
      "Time to train each fold: 25.28 seconds\n",
      "\n"
     ]
    }
   ],
   "source": [
    "dummy_predictions = np.full((len(X), 1), merged_data[\"shock\"].median())\n",
    "dummy_probs = np.full((len(X), 1), merged_data[\"shock\"].mean())\n",
    "brier_skill_ref = brier_score_loss(y, dummy_probs)\n",
    "\n",
    "print(\"Model: DummyPredictor\")\n",
    "with warnings.catch_warnings():\n",
    "    warnings.simplefilter(\"ignore\")\n",
    "    print(\"F1 score (higher is better): {:.03f}\".format(f1_score(y, dummy_predictions, average=\"weighted\")))\n",
    "print(\"Brier score loss (lower is better): {:.03f}\".format(brier_skill_ref))\n",
    "print(\"Log loss (lower is better): {:.03f}\\n\".format(log_loss(y, dummy_probs)))\n",
    "\n",
    "models = [\n",
    "    SGDClassifier(loss=\"log\", max_iter=1000, tol=.001),\n",
    "    LogisticRegression(solver=\"lbfgs\"),\n",
    "    GradientBoostingClassifier(),\n",
    "    RandomForestClassifier(n_estimators=100),\n",
    "    BaggingClassifier(),\n",
    "    GaussianNB(),\n",
    "    MLPClassifier(hidden_layer_sizes=(71,), activation='tanh', alpha=.001),\n",
    "    GradientBoostingClassifier(n_estimators=100, learning_rate=.3, max_features=30, max_depth=4, min_samples_leaf=75),\n",
    "]\n",
    "\n",
    "for model in models:\n",
    "    score_model(X, y, model, 12, True)"
   ]
  },
  {
   "cell_type": "markdown",
   "metadata": {},
   "source": [
    "Our best option appears to be a GradientBoostingClassifier. Let's run a calibration curve on a test/train split to see how effectively it's modeling income shock risk."
   ]
  },
  {
   "cell_type": "code",
   "execution_count": 4,
   "metadata": {},
   "outputs": [
    {
     "data": {
      "image/png": "[encoded data removed]",
      "text/plain": [
       "<Figure size 432x288 with 1 Axes>"
      ]
     },
     "metadata": {
      "needs_background": "light"
     },
     "output_type": "display_data"
    }
   ],
   "source": [
    "from sklearn.model_selection import train_test_split\n",
    "\n",
    "X_train, X_test, y_train, y_test = train_test_split(merged_data[predictors], merged_data[\"shock\"], test_size = 0.2)\n",
    "\n",
    "final_model = GradientBoostingClassifier(n_estimators=100, learning_rate=.3, max_features=30, max_depth=4, min_samples_leaf=75)\n",
    "final_model.fit(X_train, y_train)\n",
    "\n",
    "y_predictions = final_model.predict_proba(X_test)[:,1]\n",
    "\n",
    "import matplotlib.pyplot as plt\n",
    "from sklearn.calibration import calibration_curve\n",
    "logreg_x, logreg_y = calibration_curve(y_test, y_predictions, n_bins=10)\n",
    "\n",
    "# Plot a reference line showing what a perfectly calibrated model would look like.\n",
    "plt.plot([0, 1], [0, 1], linestyle='--')\n",
    "\n",
    "# Plot the model's actual reliability.\n",
    "plt.plot(logreg_y, logreg_x, marker='.')\n",
    "\n",
    "plt.ylabel('Actual income shock risk')\n",
    "plt.xlabel('Predicted income shock risk')\n",
    "plt.show()"
   ]
  },
  {
   "cell_type": "markdown",
   "metadata": {},
   "source": [
    "And let's plot a histogram of its outputs to understand how effectively it's differentiating between individuals of high and low income shock risk."
   ]
  },
  {
   "cell_type": "code",
   "execution_count": 5,
   "metadata": {},
   "outputs": [
    {
     "data": {
      "image/png": "[encoded data removed]",
      "text/plain": [
       "<Figure size 432x288 with 1 Axes>"
      ]
     },
     "metadata": {
      "needs_background": "light"
     },
     "output_type": "display_data"
    }
   ],
   "source": [
    "plt.hist(y_predictions, bins=20)\n",
    "plt.ylabel('Number of predictions');\n",
    "plt.xlabel('Predicted income shock risk')\n",
    "plt.show()"
   ]
  },
  {
   "cell_type": "markdown",
   "metadata": {},
   "source": [
    "Finally, to gain an understanding of how effectively the model can predict income shock risk on out-of-sample data, let's train a model on data from the 1979 cohort and test it on data from the 1997 cohort."
   ]
  },
  {
   "cell_type": "code",
   "execution_count": 6,
   "metadata": {},
   "outputs": [],
   "source": [
    "model_79 = GradientBoostingClassifier(n_estimators=100, learning_rate=.3, max_features=30, max_depth=4, min_samples_leaf=75)\n",
    "model_79.fit(cohort_79[predictors], cohort_79[\"shock\"])\n",
    "\n",
    "predictions_97 = model_79.predict_proba(cohort_97[predictors])[:,1]"
   ]
  },
  {
   "cell_type": "code",
   "execution_count": 7,
   "metadata": {},
   "outputs": [
    {
     "data": {
      "image/png": "[encoded data removed]",
      "text/plain": [
       "<Figure size 432x288 with 1 Axes>"
      ]
     },
     "metadata": {
      "needs_background": "light"
     },
     "output_type": "display_data"
    }
   ],
   "source": [
    "import matplotlib.pyplot as plt\n",
    "from sklearn.calibration import calibration_curve\n",
    "logreg_x, logreg_y = calibration_curve(cohort_97[\"shock\"], predictions_97, n_bins=20)\n",
    "\n",
    "# Plot a reference line showing what a perfectly calibrated model would look like.\n",
    "plt.plot([0, 1], [0, 1], linestyle='--')\n",
    "\n",
    "# Plot the model's actual reliability.\n",
    "plt.plot(logreg_y, logreg_x, marker='.')\n",
    "\n",
    "plt.ylabel('Actual income shock risk')\n",
    "plt.xlabel('Predicted income shock risk')\n",
    "plt.show()"
   ]
  },
  {
   "cell_type": "markdown",
   "metadata": {},
   "source": [
    "Not bad! The model does a pretty decently calibrated job of predicting income shock risk up to about 50% predicted risk. Its calibration falls off substantially from there, but the good news is that only a small minority of instances have predicted risk that high:"
   ]
  },
  {
   "cell_type": "code",
   "execution_count": 8,
   "metadata": {},
   "outputs": [
    {
     "data": {
      "image/png": "[encoded data removed]",
      "text/plain": [
       "<Figure size 432x288 with 1 Axes>"
      ]
     },
     "metadata": {
      "needs_background": "light"
     },
     "output_type": "display_data"
    }
   ],
   "source": [
    "plt.hist(predictions_97, bins=20)\n",
    "plt.ylabel('Number of predictions');\n",
    "plt.xlabel('Predicted income shock risk')\n",
    "plt.show()"
   ]
  },
  {
   "cell_type": "markdown",
   "metadata": {},
   "source": [
    "Further, although the model's prediction of _absolute_ risk is poor on the right tail, it at least captures the high _relative_ risk these people face.\n",
    "\n",
    "Finally, let's retrain our final model on all of our data, pickle it, and save our sample predictions for future use."
   ]
  },
  {
   "cell_type": "code",
   "execution_count": 10,
   "metadata": {},
   "outputs": [],
   "source": [
    "import pickle\n",
    "\n",
    "final_model = GradientBoostingClassifier(n_estimators=100, learning_rate=.3, max_features=30, max_depth=4, min_samples_leaf=75)\n",
    "final_model.fit(X, y)\n",
    "filename = 'finalized_model.sav'\n",
    "pickle.dump(final_model, open(filename, 'wb'))\n",
    "\n",
    "df_test = pd.DataFrame(X_test).copy()\n",
    "df_test['probability of income shock'] = y_predictions\n",
    "df_test['shock'] = y_test\n",
    "df_test.to_csv(\"sample_predictions.csv\")"
   ]
  },
  {
   "cell_type": "code",
   "execution_count": null,
   "metadata": {},
   "outputs": [],
   "source": []
  }
 ],
 "metadata": {
  "kernelspec": {
   "display_name": "Python 3",
   "language": "python",
   "name": "python3"
  },
  "language_info": {
   "codemirror_mode": {
    "name": "ipython",
    "version": 3
   },
   "file_extension": ".py",
   "mimetype": "text/x-python",
   "name": "python",
   "nbconvert_exporter": "python",
   "pygments_lexer": "ipython3",
   "version": "3.7.1"
  }
 },
 "nbformat": 4,
 "nbformat_minor": 2
}
