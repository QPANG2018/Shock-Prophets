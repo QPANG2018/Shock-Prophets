{
 "cells": [
  {
   "cell_type": "markdown",
   "metadata": {},
   "source": [
    "## Export Data to CSV\n",
    "\n",
    "For speed and ease of use, this notebook may be used to export data from the data.db file to CSV format."
   ]
  },
  {
   "cell_type": "code",
   "execution_count": 2,
   "metadata": {},
   "outputs": [],
   "source": [
    "import nlsy\n",
    "import os\n",
    "\n",
    "NLSY_db = nlsy.NLSY_database(\"data.db\")\n",
    "(cohort_79, cohort_97) = NLSY_db.cohorts\n",
    "data_79 = cohort_79.data(impute_values=True)\n",
    "data_97 = cohort_97.data(impute_values=True)\n",
    "\n",
    "for col in data_79.columns:\n",
    "    if not col in data_97.columns:\n",
    "        data_97[col] = 0\n",
    "        \n",
    "for col in data_97.columns:\n",
    "    if not col in data_79.columns:\n",
    "        data_79[col] = 0\n",
    "        \n",
    "data_79.to_csv(os.path.join(\"data\",\"cohort79_Jun8.csv\"))\n",
    "data_97.to_csv(os.path.join(\"data\",\"cohort97_Jun8.csv\"))"
   ]
  },
  {
   "cell_type": "code",
   "execution_count": null,
   "metadata": {},
   "outputs": [],
   "source": []
  }
 ],
 "metadata": {
  "kernelspec": {
   "display_name": "Python 3",
   "language": "python",
   "name": "python3"
  },
  "language_info": {
   "codemirror_mode": {
    "name": "ipython",
    "version": 3
   },
   "file_extension": ".py",
   "mimetype": "text/x-python",
   "name": "python",
   "nbconvert_exporter": "python",
   "pygments_lexer": "ipython3",
   "version": "3.7.1"
  }
 },
 "nbformat": 4,
 "nbformat_minor": 2
}
