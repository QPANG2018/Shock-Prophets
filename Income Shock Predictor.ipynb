{
 "cells": [
  {
   "cell_type": "markdown",
   "metadata": {},
   "source": [
    "## Predict income shock risk\n",
    "\n",
    "This notebook allows users to input their own data and identify their predicted income shock risk. \n",
    "\n",
    "This visualization is intended for educational purposes only and should not be considered financial advice."
   ]
  },
  {
   "cell_type": "code",
   "execution_count": 1,
   "metadata": {},
   "outputs": [],
   "source": [
    "import re\n",
    "from ipywidgets import interact, interactive, Layout, interactive_output,VBox\n",
    "import ipywidgets as widgets\n",
    "from IPython.display import display, HTML\n",
    "from ipywidgets import HBox, Label, FloatSlider,Dropdown,IntSlider,RadioButtons, Box, Layout\n",
    "import numpy as np\n",
    "import pandas as pd\n",
    "from scipy import stats\n",
    "import matplotlib.pyplot as plt\n",
    "import matplotlib\n",
    "\n",
    "from sklearn.model_selection import train_test_split\n",
    "from sklearn.ensemble import GradientBoostingClassifier\n",
    "import pickle"
   ]
  },
  {
   "cell_type": "markdown",
   "metadata": {},
   "source": [
    "First, import our data and our prebuilt model."
   ]
  },
  {
   "cell_type": "code",
   "execution_count": 2,
   "metadata": {},
   "outputs": [],
   "source": [
    "cohort_79=pd.read_csv('data/cohort79_Jun8.csv')\n",
    "cohort_97=pd.read_csv('data/cohort97_Jun8.csv')\n",
    "\n",
    "merged_data = pd.concat([cohort_79, cohort_97], sort=False).drop(axis=1,labels='Unnamed: 0')\n",
    "merged_data.drop(merged_data[merged_data[\"adjusted_income\"] <= 1000].index, inplace=True)\n",
    "merged_data.fillna(0, inplace=True)\n",
    "\n",
    "predictors = list(merged_data.columns)\n",
    "vars_to_drop = [\"case_id\", 'urban_or_rural',\"sample_id\", \"year\", \"shock\", \"region\",\"highest_grade\", \"industry\", \"occupation\", 'marital_status','race','work_amount_limited','work_kind_limited', 'family_size','region_1',\"region_2\", \"region_3\", \"region_4\"]\n",
    "for var in vars_to_drop:\n",
    "    predictors.remove(var)\n",
    "\n",
    "df_test = pd.read_csv(\"sample_predictions.csv\")\n",
    "bins = np.linspace(0,1, 50)\n",
    "loaded_model = pickle.load(open(\"finalized_model.sav\", 'rb'))"
   ]
  },
  {
   "cell_type": "markdown",
   "metadata": {},
   "source": [
    "Next, establish the variables and functions required for our visualization."
   ]
  },
  {
   "cell_type": "code",
   "execution_count": 3,
   "metadata": {},
   "outputs": [],
   "source": [
    "IV=['adjusted_income', 'age','hours_worked_last_year', 'weeks_worked_last_year', 'number_of_kids', 'prior_income', 'unemployment', 'gdp_growth',\n",
    "       'inflation', 'regional_unemployment']\n",
    "CV=['sex', 'curr_pregnant',  'work_limited', 'highest_grade_0',\n",
    "       'highest_grade_5', 'highest_grade_8', 'highest_grade_12',\n",
    "       'highest_grade_13', 'highest_grade_16', 'highest_grade_17',\n",
    "       'industry_10', 'industry_40', 'industry_60', 'industry_100',\n",
    "       'industry_400', 'industry_500', 'industry_580', 'industry_700',\n",
    "       'industry_721', 'industry_761', 'industry_800', 'industry_812',\n",
    "       'industry_900', 'industry_940', 'industry_992', 'occupation_10',\n",
    "       'occupation_500', 'occupation_800', 'occupation_1000',\n",
    "       'occupation_1300', 'occupation_1550', 'occupation_1600',\n",
    "       'occupation_2000', 'occupation_2100', 'occupation_2200',\n",
    "       'occupation_2600', 'occupation_3000', 'occupation_3600',\n",
    "       'occupation_3700', 'occupation_4000', 'occupation_4200',\n",
    "       'occupation_4300', 'occupation_4700', 'occupation_5000',\n",
    "       'occupation_6005', 'occupation_6200', 'occupation_6800',\n",
    "       'occupation_7000', 'occupation_7700', 'occupation_9000',\n",
    "       'occupation_9800', 'occupation_9920', 'marital_status_0',\n",
    "       'marital_status_1', 'marital_status_2', 'marital_status_3',\n",
    "       'marital_status_4', 'race_1', 'race_2', 'race_3']"
   ]
  },
  {
   "cell_type": "code",
   "execution_count": 4,
   "metadata": {},
   "outputs": [],
   "source": [
    "# load the model from pickle and predict according to user-input\n",
    "def load_model(age, sex, income, prior_income, number_of_kids, hours_per_week, race, marital_status,pregnant,occupation,industry, highest_grade,work_limited,weeks_worked_last_year):\n",
    "\n",
    "    #2018 macroeconomic info\n",
    "    User_input=merged_data[predictors].iloc[0]\n",
    "    User_input['unemployment']=0.04\n",
    "    User_input['gdp_growth']=.03\n",
    "    User_input['inflation']=0.02\n",
    "    User_input['regional_unemployment']=.04\n",
    "    \n",
    "    #interval variables\n",
    "    User_input['age']\n",
    "    User_input['adjusted_income']=income\n",
    "    User_input['number_of_kids']=number_of_kids\n",
    "    User_input['hours_worked_last_year']=hours_per_week*weeks_worked_last_year\n",
    "    User_input['weeks_worked_last_year']=weeks_worked_last_year\n",
    "    User_input['prior_income']=prior_income\n",
    "    \n",
    "    if User_input['prior_income']==0:\n",
    "        User_input['income_change']=5,\n",
    "    else:\n",
    "        User_input['income_change']=min(income/prior_income-1,5)\n",
    "    \n",
    "    #categorical variables\n",
    "    User_input[CV]=0\n",
    "    User_input['sex']=sex\n",
    "    User_input[race]=1\n",
    "    User_input[marital_status]=1\n",
    "    User_input['curr_pregnant']=pregnant\n",
    "    User_input[occupation]=1\n",
    "    User_input[industry]=1\n",
    "    User_input[highest_grade]=1\n",
    "    User_input['work_limited']=work_limited\n",
    "    \n",
    "    user_proba=loaded_model.predict_proba([User_input])[:,1]\n",
    "     \n",
    "    #show the histgram\n",
    "    plt.figure(figsize=(15,5))\n",
    "    plt.yticks([])\n",
    "    plt.ylabel(\"Frequency of Predicted Instances\")\n",
    "    plt.hist(df_test[df_test['shock']==0][\"probability of income shock\"],bins, alpha=.9, label='No Shock',color=\"#259433\")  \n",
    "    plt.hist(df_test[df_test['shock']==1][\"probability of income shock\"],bins,alpha=0.7, label='Shock', color=\"#ff4940\")\n",
    "    plt.axvline(user_proba,0,3000, linewidth=1)\n",
    "    plt.xticks([user_proba,user_proba])\n",
    "    plt.legend()\n",
    "    plt.show()\n",
    "\n",
    "    return\n",
    "\n",
    "style={'description_width' :\"initial\"}\n",
    "age=widgets.IntSlider(value=30, min=18,max=58,description='Age', layout=Layout(flex='1 1 auto', width='auto'),style=style, continuous_update=False)\n",
    "income=widgets.IntSlider(value=30000, min=1000,max=225000,description='Income',style=style, continuous_update=False)\n",
    "number_of_kids=widgets.IntSlider(value=0, min=0,max=10,description='Number of Kids',style=style, continuous_update=False)\n",
    "hours_per_week=widgets.IntSlider(value=40, min=0.0,max=86.0, layout=Layout(flex='1 1 auto', width='auto'),description='Hours Worked Per Week',style=style, continuous_update=False)\n",
    "weeks_worked_last_year=widgets.IntSlider(value=44, min=0.0,max=52, layout=Layout(flex='1 1 auto', width='auto'),description='Weeks Worked Last Year',style=style, continuous_update=False)\n",
    "prior_income=widgets.IntSlider(value=30000, min=1000,max=225000,description='Prior Income', layout=Layout(flex='1 1 auto', width='auto'),style=style, continuous_update=False)\n",
    "sex=widgets.RadioButtons(value=1,options=[(\"Female\",1),('Male',2)],layout=Layout(flex='1 1 auto', width='auto'),description=\"Sex\", style=style, disabled=False)\n",
    "race=widgets.RadioButtons(value='race_3',options=[('Black','race_1'),(\"Hispanic\",'race_2'),(\"Non-Black/Non-Hispanic\",'race_3')],style=style, layout=Layout(flex='1 1 auto', width='1'),description='Race',disabled=False)\n",
    "marital_status=widgets.RadioButtons(value='marital_status_0',options=[(\"Never Married\",'marital_status_0'),('Married','marital_status_1'),('Separated','marital_status_2'),('Divorced','marital_status_3'),('Widowed','marital_status_4')],layout=Layout(flex='1 1 auto', width='auto'),style=style, description='Marital Status',disabled=False)\n",
    "pregnant=widgets.RadioButtons(value=0,options=[('Currently Pregnant',1),('Not Currently Pregnant',0)], layout=Layout(flex='2 1 auto', width='auto',length='auto'),description='Pregnant or Not',style=style, disabled=False)\n",
    "work_limited=widgets.RadioButtons(value=0,style=style, description=\"Disability That Limits Amount/Kind of Work\",disabled=False,layout=Layout(flex='1 1 auto', width='auto'),\n",
    "                    options=[(\"Yes\",1),(\"No\", 0)])\n",
    "highest_grade=widgets.Dropdown(value='highest_grade_12',style=style, description=\"Highest Grade Completed\",disabled=False,layout=Layout(flex='1 1 auto', width='auto'),\n",
    "                       options=[('LESS THAN ELEMENTARY SCHOOL (0-4)','highest_grade_0'),\n",
    "                               ('ELEMENTARY SCHOOL (5-7)','highest_grade_5'),\n",
    "                              ('MIDDLE SCHOOL (8-11)','highest_grade_8'),\n",
    "                              ('HIGH SCHOOL (12)','highest_grade_12'),\n",
    "                              ('SOME COLLEGE (13-15)','highest_grade_13'),\n",
    "                              ('FOUR-YEAR COLLEGE DEGREE (16)','highest_grade_16'),\n",
    "                              ('GRADUATE SCHOOL (17-20)','highest_grade_17')])\n",
    "occupation=widgets.Dropdown(value='occupation_5000',style=style, description=\"Occupation\",disabled=False,\n",
    "                    options=[(\"MANAGEMENT, BUSINESS, SCIENCE, AND ARTS\",'occupation_10'),\n",
    "                            (\"BUSINESS OPERATIONS SPECIALISTS\",'occupation_500'),\n",
    "                            ('FINANCIAL SPECIALISTS','occupation_800'),\n",
    "                            ('COMPUTER AND MATHEMATICAL','occupation_1000'),\n",
    "                            ('ARCHITECTURE AND ENGINEERING','occupation_1300'),\n",
    "                            ('TECHNICIANS','occupation_1550'),\n",
    "                            ('LIFE, PHYSICAL, AND SOCIAL SCIENCE','occupation_1600'),\n",
    "                            ('COMMUNITY AND SOCIAL SERVICES', 'occupation_2000'),\n",
    "                            ('LEGAL','occupation_2100'),\n",
    "                            ('EDUCATION, TRAINING, AND LIBRARY','occupation_2200'),\n",
    "                            ('ARTS, DESIGN, ENTERTAINMENT, SPORTS, AND MEDIA','occupation_2600'),\n",
    "                            ('HEALTHCARE PRACTITIONERS AND TECHNICAL','occupation_3000'),\n",
    "                            ('HEALTHCARE SUPPORT','occupation_3600'),\n",
    "                            ('PROTECTIVE SERVICE','occupation_3700'),\n",
    "                            ('FOOD PREPARATION AND SERVING','occupation_4000'),\n",
    "                            ('BUILDING AND GROUNDS CLEANING AND MAINTENANCE','occupation_4200'),\n",
    "                            ('PERSONAL CARE AND SERVICE','occupation_4300'),\n",
    "                            ('SALES AND RELATED','occupation_4700'),\n",
    "                            ('OFFICE AND ADMINISTRATIVE SUPPORT','occupation_5000'),\n",
    "                            ('FARMING, FISHING, AND FORESTRY','occupation_6005'),\n",
    "                            ('CONSTRUCTION','occupation_6200'),\n",
    "                            ('EXTRACTION','occupation_6800'),\n",
    "                            ('INSTALLATION, MAINTENANCE, AND REPAIR', 'occupation_7000'),\n",
    "                            ('PRODUCTION','occupation_7700'),\n",
    "                            ('TRANSPORTATION AND MATERIAL MOVING','occupation_9000'),\n",
    "                            ('MILITARY SPECIFIC','occupation_9800'),\n",
    "                            ('UNEMPLOYED OR NEVER WORKED','occupation_9920')])\n",
    "industry=widgets.Dropdown(value='industry_812',style=style, description=\"Industry\",disabled=False,\n",
    "                  options=[('NOT APPLICABLE','industry_0'),\n",
    "                       ('AGRICULTURE, FORESTRY, AND FISHERIES','industry_10'),\n",
    "                       ('MINING','industry_40'),\n",
    "                       ('CONSTRUCTION','industry_60'),\n",
    "                       ('MANUFACTURING','industry_100'),\n",
    "                       ('TRANSPORTATION, COMMUNICATIONS, AND OTHER PUBLIC UTILITIES', 'industry_400'),\n",
    "                       ('WHOLESALE TRADE','industry_500'),\n",
    "                       ('RETAIL TRADE',  'industry_580' ),\n",
    "                       ('FINANCE, INSURANCE, AND REAL ESTATE', 'industry_700'),\n",
    "                       ('BUSINESS AND REPAIR SERVICES', 'industry_721'),\n",
    "                       ('PERSONAL SERVICES', 'industry_761'),\n",
    "                       ('ENTERTAINMENT AND RECREATION SERVICES', 'industry_800'),\n",
    "                       ('PROFESSIONAL AND RELATED SERVICES', 'industry_812'),\n",
    "                       ('PUBLIC ADMINISTRATION', 'industry_900'),\n",
    "                       ('ACTIVE DUTY MILITARY', 'industry_940'),\n",
    "                       ('EXPERIENCED UNEMPLOYED NOT CLASSIFIED BY INDUSTRY', 'industry_992')])\n"
   ]
  },
  {
   "cell_type": "markdown",
   "metadata": {},
   "source": [
    "Finally, display the visualization. Many of the fields are self-explanatory, but for a few, some definitions are in order:\n",
    "\n",
    "**Prior income**: This should represent the respondent's income two years previously. For instance, a respondent using this visualization in 2019 would report their income from 2017.\n",
    "\n",
    "**Hours worked per week**: This should represent the average number of hours worked per week in weeks in which the respondent conducted any paid labor market work in the last year."
   ]
  },
  {
   "cell_type": "code",
   "execution_count": 5,
   "metadata": {},
   "outputs": [
    {
     "data": {
      "application/vnd.jupyter.widget-view+json": {
       "model_id": "7997c9adc8444d51a0221a45ecdaad52",
       "version_major": 2,
       "version_minor": 0
      },
      "text/plain": [
       "VBox(children=(HBox(children=(VBox(children=(IntSlider(value=30, continuous_update=False, description='Age', l…"
      ]
     },
     "metadata": {},
     "output_type": "display_data"
    }
   ],
   "source": [
    "left_box=VBox([age,number_of_kids,hours_per_week,weeks_worked_last_year])\n",
    "mid_box=VBox([income,prior_income,occupation,industry,highest_grade,work_limited,pregnant])\n",
    "right_box=VBox([sex,race,marital_status,])\n",
    "ui=widgets.HBox([left_box,mid_box, right_box])\n",
    "output=widgets.interactive_output(load_model,{'age':age,'income':income,'prior_income':prior_income,'weeks_worked_last_year':weeks_worked_last_year,'hours_per_week':hours_per_week, 'number_of_kids':number_of_kids, 'sex':sex,'race':race,'marital_status':marital_status, 'pregnant':pregnant,'occupation':occupation, 'industry':industry, 'highest_grade':highest_grade, 'work_limited':work_limited})\n",
    "output.layout.height=\"400px\"\n",
    "output.layout.width='800px'\n",
    "box=widgets.VBox([ui,output])\n",
    "display(box)"
   ]
  },
  {
   "cell_type": "code",
   "execution_count": null,
   "metadata": {},
   "outputs": [],
   "source": []
  }
 ],
 "metadata": {
  "kernelspec": {
   "display_name": "Python 3",
   "language": "python",
   "name": "python3"
  },
  "language_info": {
   "codemirror_mode": {
    "name": "ipython",
    "version": 3
   },
   "file_extension": ".py",
   "mimetype": "text/x-python",
   "name": "python",
   "nbconvert_exporter": "python",
   "pygments_lexer": "ipython3",
   "version": "3.7.1"
  }
 },
 "nbformat": 4,
 "nbformat_minor": 2
}
