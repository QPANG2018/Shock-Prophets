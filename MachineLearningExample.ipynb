{
 "cells": [
  {
   "cell_type": "markdown",
   "metadata": {},
   "source": [
    "# Machine Learning Demo on NLSY Data\n",
    "\n",
    "First, import the relevant files and set up the cohort dataframes..."
   ]
  },
  {
   "cell_type": "code",
   "execution_count": 1,
   "metadata": {},
   "outputs": [],
   "source": [
    "import nlsy\n",
    "import numpy as np\n",
    "import pandas as pd\n",
    "from sklearn.model_selection import cross_validate\n",
    "from sklearn.model_selection import train_test_split\n",
    "from sklearn.metrics import classification_report\n",
    "from sklearn.metrics import brier_score_loss\n",
    "\n",
    "%matplotlib inline\n",
    "\n",
    "NLSY_db = nlsy.NLSY_database(\"data.db\")\n",
    "(cohort_79, cohort_97) = NLSY_db.cohorts\n",
    "data_79 = cohort_79.data()\n",
    "data_97 = cohort_97.data()"
   ]
  },
  {
   "cell_type": "markdown",
   "metadata": {},
   "source": [
    "Then, ensure that each cohort's dataframe includes the same columns. (This is necessary because some industry/occupation codes are used within only one of the two cohorts.)"
   ]
  },
  {
   "cell_type": "code",
   "execution_count": 2,
   "metadata": {},
   "outputs": [],
   "source": [
    "for col in data_79.columns:\n",
    "    if not col in data_97.columns:\n",
    "        data_97[col] = 0\n",
    "        \n",
    "for col in data_97.columns:\n",
    "    if not col in data_79.columns:\n",
    "        data_79[col] = 0"
   ]
  },
  {
   "cell_type": "markdown",
   "metadata": {},
   "source": [
    "Next, create the merged data incorporating the samples from both cohorts, define the predictor variables (in this case, we're using everything *except* case_id and sample_id, which are housekeeping variables, and the year, which is not relevant to predictions about future income shock risk), and create \"test\" and \"train\" samples.\n",
    "\n",
    "For the purpose of this example, our training set consists of 80% of the instances across *both* cohorts. We can, of course, experiment with training models only on one cohort and then using each to predict the other."
   ]
  },
  {
   "cell_type": "code",
   "execution_count": 3,
   "metadata": {},
   "outputs": [],
   "source": [
    "merged_data = pd.concat([data_79, data_97], sort=False)\n",
    "predictors = list(merged_data.columns)\n",
    "vars_to_drop = [\"case_id\", \"sample_id\", \"year\", \"shock\"]\n",
    "for var in vars_to_drop:\n",
    "    predictors.remove(var)\n",
    "\n",
    "X_train, X_test, y_train, y_test = train_test_split(merged_data[predictors], merged_data[\"shock\"], test_size = 0.2)"
   ]
  },
  {
   "cell_type": "markdown",
   "metadata": {},
   "source": [
    "Becasue we're dealing with an imbalanced class (only ~20% of people suffer an income shock in a given year), F1 score is a relatively poor way of evaluating the model. Even a naive prediction that no one ever suffers an income shock would be right 80% of the time!\n",
    "\n",
    "To better measure the skill of our model, then, it's important to establish a baseline. The below code provides a classification report for a \"dummy\" predictor that presumes no one ever has an income shock, as well as a [Brier skill reference](https://www.statisticshowto.datasciencecentral.com/brier-score/) for a \"dummy\" predictor that assigns everyone an *equal* chance of an income shock (that is, the ~20% average risk seen in the data)."
   ]
  },
  {
   "cell_type": "code",
   "execution_count": 4,
   "metadata": {},
   "outputs": [
    {
     "name": "stdout",
     "output_type": "stream",
     "text": [
      "              precision    recall  f1-score   support\n",
      "\n",
      "    No shock       0.81      1.00      0.89     39170\n",
      "       Shock       0.00      0.00      0.00      9411\n",
      "\n",
      "   micro avg       0.81      0.81      0.81     48581\n",
      "   macro avg       0.40      0.50      0.45     48581\n",
      "weighted avg       0.65      0.81      0.72     48581\n",
      "\n",
      "The Brier score of the dummy predictor is 0.156.\n"
     ]
    },
    {
     "name": "stderr",
     "output_type": "stream",
     "text": [
      "C:\\ProgramData\\Anaconda3\\lib\\site-packages\\sklearn\\metrics\\classification.py:1143: UndefinedMetricWarning: Precision and F-score are ill-defined and being set to 0.0 in labels with no predicted samples.\n",
      "  'precision', 'predicted', average, warn_for)\n"
     ]
    }
   ],
   "source": [
    "dummy_predictions = np.full((len(X_test), 1), merged_data[\"shock\"].median())\n",
    "dummy_probs = np.full((len(X_test), 1), merged_data[\"shock\"].mean())\n",
    "dummy_report = classification_report(y_test, dummy_predictions, target_names=[\"No shock\",\"Shock\"])\n",
    "print(dummy_report)\n",
    "\n",
    "brier_skill_ref = brier_score_loss(y_test, dummy_probs)\n",
    "print(\"The Brier score of the dummy predictor is {:.03f}.\".format(brier_skill_ref))"
   ]
  },
  {
   "cell_type": "markdown",
   "metadata": {},
   "source": [
    "With all of that prep work completed, we can now deploy a real machine learning model on the data set -- in this case, a gradient boosting classifier."
   ]
  },
  {
   "cell_type": "code",
   "execution_count": 5,
   "metadata": {},
   "outputs": [
    {
     "name": "stdout",
     "output_type": "stream",
     "text": [
      "              precision    recall  f1-score   support\n",
      "\n",
      "    No shock       0.82      0.99      0.89     39170\n",
      "       Shock       0.59      0.08      0.14      9411\n",
      "\n",
      "   micro avg       0.81      0.81      0.81     48581\n",
      "   macro avg       0.70      0.53      0.52     48581\n",
      "weighted avg       0.77      0.81      0.75     48581\n",
      "\n",
      "The Brier score of the Gradient Boosting Classifier is 0.135, translating to a Brier skill score of 0.133.\n"
     ]
    }
   ],
   "source": [
    "from sklearn.ensemble import GradientBoostingClassifier\n",
    "gbrt = GradientBoostingClassifier(n_estimators=100, learning_rate=.3)\n",
    "gbrt.fit(X_train, y_train)\n",
    "\n",
    "gbrt_report = classification_report(y_test, gbrt.predict(X_test), target_names=[\"No shock\",\"Shock\"])\n",
    "print(gbrt_report)\n",
    "\n",
    "y_predictions = gbrt.predict_proba(X_test)[:,1]\n",
    "gbrt_score = brier_score_loss(y_test, y_predictions)\n",
    "gbrt_skill = (1 - (gbrt_score / brier_skill_ref))\n",
    "\n",
    "print(\"The Brier score of the Gradient Boosting Classifier is {:.03f}, translating to a Brier skill score of {:.03f}.\".format(gbrt_score, gbrt_skill))"
   ]
  },
  {
   "cell_type": "markdown",
   "metadata": {},
   "source": [
    "As expected, the model has a relatively poor F1 score of .74, only a smidge better than the .71 achieved by our \"dummy\" predictor. But the good news is that its Brier score shows a small but significant improvement in prediction skill. \n",
    "\n",
    "Better yet, we can see that our predictions are fairly well-calibrated. That is, out of the people whom our model assigns a (say) 40% chance of an income shock, roughly 40% really do suffer an income shock (although the model breaks a bit at high probability levels). That's demonstrated by the below calibration curve:"
   ]
  },
  {
   "cell_type": "code",
   "execution_count": 6,
   "metadata": {},
   "outputs": [
    {
     "data": {
      "image/png": "[encoded data removed]",
      "text/plain": [
       "<Figure size 432x288 with 1 Axes>"
      ]
     },
     "metadata": {
      "needs_background": "light"
     },
     "output_type": "display_data"
    }
   ],
   "source": [
    "import matplotlib.pyplot as plt\n",
    "from sklearn.calibration import calibration_curve\n",
    "logreg_x, logreg_y = calibration_curve(y_test, y_predictions, n_bins=10)\n",
    "\n",
    "# Plot a reference line showing what a perfectly calibrated model would look like.\n",
    "plt.plot([0, 1], [0, 1], linestyle='--')\n",
    "\n",
    "# Plot the model's actual reliability.\n",
    "plt.plot(logreg_y, logreg_x, marker='.')\n",
    "\n",
    "plt.ylabel('Actual income shock risk')\n",
    "plt.xlabel('Predicted income shock risk')\n",
    "plt.show()"
   ]
  },
  {
   "cell_type": "markdown",
   "metadata": {},
   "source": [
    "Of course, it's possible that a model can be well-calibrated and still meaninglessl! Our \"dummy\" predictor that assigned everyone a ~20% chance of an income shock was, technically, perfectly calibrated, since everyone in aggregate *really did* experience a ~20% risk.\n",
    "\n",
    "So to determine whether the model is assigning meaningfully different risk levels to different individuals, let's plot a histogram showing how many people received a given risk score:"
   ]
  },
  {
   "cell_type": "code",
   "execution_count": 7,
   "metadata": {},
   "outputs": [
    {
     "data": {
      "image/png": "[encoded data removed]",
      "text/plain": [
       "<Figure size 432x288 with 1 Axes>"
      ]
     },
     "metadata": {
      "needs_background": "light"
     },
     "output_type": "display_data"
    }
   ],
   "source": [
    "plt.hist(y_predictions, bins=10)\n",
    "plt.ylabel('Number of predictions');\n",
    "plt.xlabel('Predicted income shock risk')\n",
    "plt.show()"
   ]
  },
  {
   "cell_type": "markdown",
   "metadata": {},
   "source": [
    "Next steps from here include testing different machine learning models, tuning the hyperparameters within those models, discovering what happens when we train models on one cohort and test them on the other, adding potential constructed and additional variables, etc."
   ]
  },
  {
   "cell_type": "code",
   "execution_count": null,
   "metadata": {},
   "outputs": [],
   "source": []
  }
 ],
 "metadata": {
  "kernelspec": {
   "display_name": "Python 3",
   "language": "python",
   "name": "python3"
  },
  "language_info": {
   "codemirror_mode": {
    "name": "ipython",
    "version": 3
   },
   "file_extension": ".py",
   "mimetype": "text/x-python",
   "name": "python",
   "nbconvert_exporter": "python",
   "pygments_lexer": "ipython3",
   "version": "3.7.1"
  }
 },
 "nbformat": 4,
 "nbformat_minor": 2
}
